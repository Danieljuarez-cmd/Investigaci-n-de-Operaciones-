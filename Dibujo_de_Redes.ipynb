{
  "nbformat": 4,
  "nbformat_minor": 0,
  "metadata": {
    "colab": {
      "provenance": [],
      "authorship_tag": "ABX9TyMGuD1agrulC2oUENAVTLbD",
      "include_colab_link": true
    },
    "kernelspec": {
      "name": "python3",
      "display_name": "Python 3"
    },
    "language_info": {
      "name": "python"
    }
  },
  "cells": [
    {
      "cell_type": "markdown",
      "metadata": {
        "id": "view-in-github",
        "colab_type": "text"
      },
      "source": [
        "<a href=\"https://colab.research.google.com/github/Danieljuarez-cmd/Investigaci-n-de-Operaciones-/blob/main/Dibujo_de_Redes.ipynb\" target=\"_parent\"><img src=\"https://colab.research.google.com/assets/colab-badge.svg\" alt=\"Open In Colab\"/></a>"
      ]
    },
    {
      "cell_type": "markdown",
      "source": [
        "**Dibujo de redes**"
      ],
      "metadata": {
        "id": "vwpuivtet8aK"
      }
    },
    {
      "cell_type": "markdown",
      "source": [
        "*Edgar Daniel Juárez Parangueo*"
      ],
      "metadata": {
        "id": "M1QqMdawuQsL"
      }
    },
    {
      "cell_type": "markdown",
      "source": [
        "La libreria que se importa a continuación sirve para crear, analizar y manipular redes complejas de mnera facil."
      ],
      "metadata": {
        "id": "7g2m0h5Fufd2"
      }
    },
    {
      "cell_type": "code",
      "source": [
        "import networkx as nx"
      ],
      "metadata": {
        "id": "oLsIIZiKuFU0"
      },
      "execution_count": 77,
      "outputs": []
    },
    {
      "cell_type": "markdown",
      "source": [
        "A continuación creamos  primero una red vacia para crear directamente la gráfica que vamos a utilizar\n"
      ],
      "metadata": {
        "id": "qWuDhWsKuytQ"
      }
    },
    {
      "cell_type": "code",
      "execution_count": 78,
      "metadata": {
        "id": "SsQXye88t6Vh"
      },
      "outputs": [],
      "source": [
        "G=nx.DiGraph()#Grafo dirigido"
      ]
    },
    {
      "cell_type": "markdown",
      "source": [
        "A continuacion se crean los arcos que unen a un nodo con otro, es aqui donde podemos crear tantos como se nos solicite."
      ],
      "metadata": {
        "id": "Egcxy5YXvPoT"
      }
    },
    {
      "cell_type": "code",
      "source": [
        "G.add_edge(\"A\",\"B\")\n",
        "G.add_edge(\"B\",\"C\")\n",
        "G.add_edge(\"B\",\"D\")\n",
        "G.add_edge(\"A\",\"C\")\n",
        "G.add_edge(\"C\",\"D\")"
      ],
      "metadata": {
        "id": "WAAFnpohvXG0"
      },
      "execution_count": 79,
      "outputs": []
    },
    {
      "cell_type": "code",
      "source": [
        "nx.draw_networkx(G, node_color=\"green\")#Muestra la red con otro color\n"
      ],
      "metadata": {
        "colab": {
          "base_uri": "https://localhost:8080/",
          "height": 406
        },
        "id": "NaPLudwbwiC2",
        "outputId": "18f1f59d-4ad8-4715-cf50-32807b4ccde4"
      },
      "execution_count": 80,
      "outputs": [
        {
          "output_type": "display_data",
          "data": {
            "text/plain": [
              "<Figure size 640x480 with 1 Axes>"
            ],
            "image/png": "[encoded data removed]"
          },
          "metadata": {}
        }
      ]
    },
    {
      "cell_type": "markdown",
      "source": [
        "Podemos imprimir la lista de los nodos que utilizamos en el grafo."
      ],
      "metadata": {
        "id": "eJwAfFT81jjj"
      }
    },
    {
      "cell_type": "code",
      "source": [
        "list(G.nodes)"
      ],
      "metadata": {
        "colab": {
          "base_uri": "https://localhost:8080/"
        },
        "id": "ifrBk9F2ySD_",
        "outputId": "4208b993-4dff-454d-8ccd-c466e13baf9f"
      },
      "execution_count": 81,
      "outputs": [
        {
          "output_type": "execute_result",
          "data": {
            "text/plain": [
              "['A', 'B', 'C', 'D']"
            ]
          },
          "metadata": {},
          "execution_count": 81
        }
      ]
    },
    {
      "cell_type": "markdown",
      "source": [
        "Tambien se puede pedir que se nos muestren los nodos que se utilizaron en esta red"
      ],
      "metadata": {
        "id": "E84l-7arzhQk"
      }
    },
    {
      "cell_type": "code",
      "source": [
        "nx.nodes(G)"
      ],
      "metadata": {
        "colab": {
          "base_uri": "https://localhost:8080/"
        },
        "id": "9kIEwQ-GzdPU",
        "outputId": "e15f89d4-91ec-4661-e3f6-2ab8774deaa2"
      },
      "execution_count": 82,
      "outputs": [
        {
          "output_type": "execute_result",
          "data": {
            "text/plain": [
              "NodeView(('A', 'B', 'C', 'D'))"
            ]
          },
          "metadata": {},
          "execution_count": 82
        }
      ]
    },
    {
      "cell_type": "markdown",
      "source": [
        "Aqui podemos mostrar las aristas de los grafos, agrupadas como una coordenada (x,y) con x punto de partida, y como punto de llegada"
      ],
      "metadata": {
        "id": "Yk6KrGnr2GMU"
      }
    },
    {
      "cell_type": "code",
      "source": [
        "nx.edges(G)"
      ],
      "metadata": {
        "colab": {
          "base_uri": "https://localhost:8080/"
        },
        "id": "pONEyQnz2qbF",
        "outputId": "93a07dce-ebc8-44f8-9484-c46bb0c3e47a"
      },
      "execution_count": 83,
      "outputs": [
        {
          "output_type": "execute_result",
          "data": {
            "text/plain": [
              "OutEdgeView([('A', 'B'), ('A', 'C'), ('B', 'C'), ('B', 'D'), ('C', 'D')])"
            ]
          },
          "metadata": {},
          "execution_count": 83
        }
      ]
    },
    {
      "cell_type": "code",
      "source": [
        "print(G.edges(data=True))"
      ],
      "metadata": {
        "colab": {
          "base_uri": "https://localhost:8080/"
        },
        "id": "lGJ2DLIE22lh",
        "outputId": "b0be0a71-f763-44e2-a33d-d58f7fd3ec48"
      },
      "execution_count": 84,
      "outputs": [
        {
          "output_type": "stream",
          "name": "stdout",
          "text": [
            "[('A', 'B', {}), ('A', 'C', {}), ('B', 'C', {}), ('B', 'D', {}), ('C', 'D', {})]\n"
          ]
        }
      ]
    },
    {
      "cell_type": "markdown",
      "source": [
        "Mostramos el numero de nodos de la red como sigue:"
      ],
      "metadata": {
        "id": "318Bccx73Nvg"
      }
    },
    {
      "cell_type": "code",
      "source": [
        "nx.number_of_nodes(G)"
      ],
      "metadata": {
        "colab": {
          "base_uri": "https://localhost:8080/"
        },
        "id": "jSHVkzCQ3U8K",
        "outputId": "a11adb68-4656-441d-be8f-2b5b4cd79ef2"
      },
      "execution_count": 85,
      "outputs": [
        {
          "output_type": "execute_result",
          "data": {
            "text/plain": [
              "4"
            ]
          },
          "metadata": {},
          "execution_count": 85
        }
      ]
    }
  ]
}